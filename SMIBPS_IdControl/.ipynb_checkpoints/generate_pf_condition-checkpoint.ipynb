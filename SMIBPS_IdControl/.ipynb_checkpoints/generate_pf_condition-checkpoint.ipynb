{
 "cells": [
  {
   "cell_type": "code",
   "execution_count": 1,
   "metadata": {},
   "outputs": [
    {
     "name": "stdout",
     "output_type": "stream",
     "text": [
      "Falling back to Blas/Lapack\n",
      "Using Blas/Lapack\n"
     ]
    }
   ],
   "source": [
    "from aux_files import *\n",
    "from GridCal.Engine import *"
   ]
  },
  {
   "cell_type": "markdown",
   "metadata": {},
   "source": [
    "The cell below loads the GridCal SMIB model and performs 10 power flow computation for random variations of active and reactive power in the load of the system. The results are exported inside the `PF_Data` folder."
   ]
  },
  {
   "cell_type": "code",
   "execution_count": 9,
   "metadata": {},
   "outputs": [
    {
     "name": "stdout",
     "output_type": "stream",
     "text": [
      "Q control logic (fast)\n",
      "Q controls Ok\n",
      "Stabilized in 1 iteration(s) (outer control loop)\n",
      "Q control logic (fast)\n",
      "Q controls Ok\n",
      "Stabilized in 1 iteration(s) (outer control loop)\n",
      "Q control logic (fast)\n",
      "Q controls Ok\n",
      "Stabilized in 1 iteration(s) (outer control loop)\n",
      "Q control logic (fast)\n",
      "Q controls Ok\n",
      "Stabilized in 1 iteration(s) (outer control loop)\n",
      "Q control logic (fast)\n",
      "Q controls Ok\n",
      "Stabilized in 1 iteration(s) (outer control loop)\n",
      "Q control logic (fast)\n",
      "Q controls Ok\n",
      "Stabilized in 1 iteration(s) (outer control loop)\n",
      "Q control logic (fast)\n",
      "Q controls Ok\n",
      "Stabilized in 1 iteration(s) (outer control loop)\n",
      "Q control logic (fast)\n",
      "Q controls Ok\n",
      "Stabilized in 1 iteration(s) (outer control loop)\n",
      "Q control logic (fast)\n",
      "Q controls Ok\n",
      "Stabilized in 1 iteration(s) (outer control loop)\n",
      "Q control logic (fast)\n",
      "Q controls Ok\n",
      "Stabilized in 1 iteration(s) (outer control loop)\n"
     ]
    }
   ],
   "source": [
    "grid = SMIB_gridcal()\n",
    "\n",
    "# Power flow options\n",
    "options = PowerFlowOptions(SolverType.NR,\n",
    "                           verbose=True,\n",
    "                           multi_core = True,\n",
    "                           tolerance = 1e-6,\n",
    "                           max_iter = 99,\n",
    "                           control_q = ReactivePowerControlMode.Direct)\n",
    "\n",
    "\n",
    "for i in range(10):\n",
    "    for load in grid.get_loads():\n",
    "        load.P, load.Q = load.P*random.uniform(0.8,1.2), load.Q*random.uniform(-0.5, 0.5)\n",
    "    \n",
    "    pf = PowerFlowDriver(grid, options)\n",
    "    pf.run()\n",
    "\n",
    "    gridcal2rec(grid, pf, 'SMIBPS_IdControl', pf_num = i + 1, export_pf_results = False)"
   ]
  }
 ],
 "metadata": {
  "kernelspec": {
   "display_name": "Python 3",
   "language": "python",
   "name": "python3"
  },
  "language_info": {
   "codemirror_mode": {
    "name": "ipython",
    "version": 3
   },
   "file_extension": ".py",
   "mimetype": "text/x-python",
   "name": "python",
   "nbconvert_exporter": "python",
   "pygments_lexer": "ipython3",
   "version": "3.7.7"
  }
 },
 "nbformat": 4,
 "nbformat_minor": 4
}
