{
 "cells": [
  {
   "cell_type": "code",
   "execution_count": 1,
   "metadata": {},
   "outputs": [
    {
     "name": "stdout",
     "output_type": "stream",
     "text": [
      "Falling back to Blas/Lapack\n",
      "Using Blas/Lapack\n"
     ]
    }
   ],
   "source": [
    "from aux_files import *\n",
    "from GridCal.Engine import *"
   ]
  },
  {
   "cell_type": "code",
   "execution_count": 11,
   "metadata": {},
   "outputs": [
    {
     "name": "stdout",
     "output_type": "stream",
     "text": [
      "Q control logic (fast)\n",
      "Q controls Ok\n",
      "Stabilized in 1 iteration(s) (outer control loop)\n"
     ]
    }
   ],
   "source": [
    "grid = SMIB_gridcal()\n",
    "\n",
    "# Power flow options\n",
    "options = PowerFlowOptions(SolverType.NR,\n",
    "                           verbose=True,\n",
    "                           multi_core = True,\n",
    "                           tolerance = 1e-6,\n",
    "                           max_iter = 99,\n",
    "                           control_q = ReactivePowerControlMode.Direct)\n",
    "\n",
    "# Proportional change (as a percentage; i.e., 0.1 for 10%)\n",
    "delta_p = 0.1\n",
    "# Original active power with respect to PF_0\n",
    "load_p0 = 73.1156819505195\n",
    "# Original dispatch of the generator with respect to PF_0\n",
    "gen_p0 = 1998.000000\n",
    " \n",
    "for load in grid.get_loads():\n",
    "    load.P = load_p0*(1 + delta_p)\n",
    "    break # There is only one load in this system\n",
    "\n",
    "for gen in grid.get_generators():\n",
    "    if gen.bus.is_slack:\n",
    "        continue\n",
    "    else:\n",
    "        gen.P = gen_p0 * (1+delta_p)\n",
    "\n",
    "pf = PowerFlowDriver(grid, options)\n",
    "pf.run()\n",
    "\n",
    "gridcal2rec(grid, pf, 'SMIBPS_IdControl', pf_num = 1, export_pf_results = False)"
   ]
  },
  {
   "cell_type": "markdown",
   "metadata": {},
   "source": [
    "### Automatic Generation of Several Power Flows (within an increase interval)\n",
    "The cell below loads the GridCal SMIB model and performs a power flow computation for within a range of proportional load changes of active in the load of the system and an increase in active power dispatch in the generator in the same proportion. The results are exported inside the `PF_Data` folder."
   ]
  },
  {
   "cell_type": "code",
   "execution_count": 10,
   "metadata": {},
   "outputs": [
    {
     "name": "stdout",
     "output_type": "stream",
     "text": [
      "Q control logic (fast)\n",
      "Q controls Ok\n",
      "Stabilized in 1 iteration(s) (outer control loop)\n",
      "Q control logic (fast)\n",
      "Q controls Ok\n",
      "Stabilized in 1 iteration(s) (outer control loop)\n",
      "Q control logic (fast)\n",
      "Q controls Ok\n",
      "Stabilized in 1 iteration(s) (outer control loop)\n",
      "Q control logic (fast)\n",
      "Q controls Ok\n",
      "Stabilized in 1 iteration(s) (outer control loop)\n",
      "Q control logic (fast)\n",
      "Q controls Ok\n",
      "Stabilized in 1 iteration(s) (outer control loop)\n",
      "Q control logic (fast)\n",
      "Q controls Ok\n",
      "Stabilized in 1 iteration(s) (outer control loop)\n",
      "Q control logic (fast)\n",
      "Q controls Ok\n",
      "Stabilized in 1 iteration(s) (outer control loop)\n",
      "Q control logic (fast)\n",
      "Q controls Ok\n",
      "Stabilized in 1 iteration(s) (outer control loop)\n",
      "Q control logic (fast)\n",
      "Q controls Ok\n",
      "Stabilized in 1 iteration(s) (outer control loop)\n",
      "Q control logic (fast)\n",
      "Q controls Ok\n",
      "Stabilized in 1 iteration(s) (outer control loop)\n",
      "Q control logic (fast)\n",
      "Q controls Ok\n",
      "Stabilized in 1 iteration(s) (outer control loop)\n",
      "Q control logic (fast)\n",
      "Q controls Ok\n",
      "Stabilized in 1 iteration(s) (outer control loop)\n",
      "Q control logic (fast)\n",
      "Q controls Ok\n",
      "Stabilized in 1 iteration(s) (outer control loop)\n",
      "Q control logic (fast)\n",
      "Q controls Ok\n",
      "Stabilized in 1 iteration(s) (outer control loop)\n",
      "Q control logic (fast)\n",
      "Q controls Ok\n",
      "Stabilized in 1 iteration(s) (outer control loop)\n",
      "Q control logic (fast)\n",
      "Q controls Ok\n",
      "Stabilized in 1 iteration(s) (outer control loop)\n",
      "Q control logic (fast)\n",
      "Q controls Ok\n",
      "Stabilized in 1 iteration(s) (outer control loop)\n",
      "Q control logic (fast)\n",
      "Q controls Ok\n",
      "Stabilized in 1 iteration(s) (outer control loop)\n",
      "Q control logic (fast)\n",
      "Q controls Ok\n",
      "Stabilized in 1 iteration(s) (outer control loop)\n",
      "Q control logic (fast)\n",
      "Q controls Ok\n",
      "Stabilized in 1 iteration(s) (outer control loop)\n"
     ]
    }
   ],
   "source": [
    "grid = SMIB_gridcal()\n",
    "\n",
    "# Power flow options\n",
    "options = PowerFlowOptions(SolverType.NR,\n",
    "                           verbose=True,\n",
    "                           multi_core = True,\n",
    "                           tolerance = 1e-6,\n",
    "                           max_iter = 99,\n",
    "                           control_q = ReactivePowerControlMode.Direct)\n",
    "\n",
    "# Proportional change (from -50% to 50%)\n",
    "delta_p = np.linspace(-0.5, 0.5, 20)\n",
    "# Original active power with respect to PF_0\n",
    "load_p0 = 73.1156819505195\n",
    "# Original dispatch of the generator with respect to PF_0\n",
    "gen_p0 = 1998.000000\n",
    "\n",
    "for i in range(delta_p.shape[0]):\n",
    "    \n",
    "    for load in grid.get_loads():\n",
    "        load.P = load_p0*(1 + delta_p[i])\n",
    "    \n",
    "    for gen in grid.get_generators():\n",
    "        if gen.bus.is_slack:\n",
    "            continue\n",
    "        else:\n",
    "            gen.P = gen_p0 * (1+delta_p[i])\n",
    "    \n",
    "    pf = PowerFlowDriver(grid, options)\n",
    "    pf.run()\n",
    "\n",
    "    gridcal2rec(grid, pf, 'SMIBPS_IdControl', pf_num = i + 1, export_pf_results = False)"
   ]
  },
  {
   "cell_type": "code",
   "execution_count": null,
   "metadata": {},
   "outputs": [],
   "source": []
  }
 ],
 "metadata": {
  "kernelspec": {
   "display_name": "Python 3",
   "language": "python",
   "name": "python3"
  },
  "language_info": {
   "codemirror_mode": {
    "name": "ipython",
    "version": 3
   },
   "file_extension": ".py",
   "mimetype": "text/x-python",
   "name": "python",
   "nbconvert_exporter": "python",
   "pygments_lexer": "ipython3",
   "version": "3.7.7"
  }
 },
 "nbformat": 4,
 "nbformat_minor": 4
}
